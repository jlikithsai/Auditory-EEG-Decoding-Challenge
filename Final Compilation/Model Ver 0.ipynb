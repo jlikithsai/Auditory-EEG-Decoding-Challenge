{
 "cells": [
  {
   "cell_type": "code",
   "execution_count": null,
   "id": "8c38ae29-ade5-4e2c-9228-291c33ba49d3",
   "metadata": {},
   "outputs": [],
   "source": [
    "import torch\n",
    "import torch.nn as nn\n",
    "import torch.optim as optim\n",
    "from torch.utils.data import DataLoader, Dataset\n",
    "import torchvision.transforms as transforms\n",
    "import torchvision.models as models\n",
    "from tqdm import tqdm  "
   ]
  },
  {
   "cell_type": "code",
   "execution_count": null,
   "id": "d20f6118-c174-431f-b869-9e433f30f093",
   "metadata": {},
   "outputs": [],
   "source": [
    "#Add the test dataloader with output with (eeg,mel,mel,mel,...)  eeg = [64,_,_] 64 channels, mel = [10,_,_] 10 channels \n",
    "# save the test dataloader with variable dataloader_test\n",
    "# this code will only work if the batch_size = 0 do the shape of the eeg and mel should be an 3D array \n",
    "\n",
    "\n",
    "\n",
    "\n",
    "\n"
   ]
  },
  {
   "cell_type": "code",
   "execution_count": null,
   "id": "b3f5fdbe-9ea8-43f5-80f9-e8cfbb69f05d",
   "metadata": {},
   "outputs": [],
   "source": [
    "class CustomResNet(nn.Module):\n",
    "    def __init__(self, input_channels):\n",
    "        super(CustomResNet, self).__init__()\n",
    "        self.resnet = models.resnet34(pretrained=False)\n",
    "        self.resnet.conv1 = nn.Conv2d(input_channels, 64, kernel_size=7, stride=2, padding=3, bias=False)\n",
    "\n",
    "    def forward(self, x):\n",
    "        x = self.resnet(x)\n",
    "        x = x.view(x.size(0),-1)\n",
    "        return x"
   ]
  },
  {
   "cell_type": "code",
   "execution_count": null,
   "id": "e1146620-2296-48b1-a00d-977594e4d71a",
   "metadata": {},
   "outputs": [],
   "source": [
    "device = 'cuda'\n",
    "resnet_eeg = CustomResNet(64)\n",
    "resnet_mel = CustomResNet(10)\n",
    "resnet_eeg = resnet_eeg.to(device)\n",
    "resnet_mel = resnet_mel.to(device)"
   ]
  },
  {
   "cell_type": "code",
   "execution_count": null,
   "id": "e7c22554-d873-4046-b56b-fc308b626e8a",
   "metadata": {},
   "outputs": [],
   "source": [
    "resnet_eeg.load_state_dict(torch.load('resnet_eeg.pth'))\n",
    "resnet_mel.load_state_dict(torch.load('resnet_mel.pth'))"
   ]
  },
  {
   "cell_type": "code",
   "execution_count": null,
   "id": "784b922f-8166-49c0-a1b1-b232385cfee4",
   "metadata": {},
   "outputs": [],
   "source": [
    "# criterion\n",
    "def euclidean_dist(eeg, mel):\n",
    "    distance = np.sqrt(np.dot(eeg - mel, (eeg - mel).T))\n",
    "    return distance"
   ]
  },
  {
   "cell_type": "code",
   "execution_count": null,
   "id": "a5f69c4b-681f-408e-8a8e-4ec66f6334ec",
   "metadata": {},
   "outputs": [],
   "source": [
    "with torch.no_grad():\n",
    "    for list in dataloader_test:\n",
    "        eeg = list[0].to(device)\n",
    "        output_eeg = resnet_eeg(eeg)\n",
    "        # lowest_distance = np.inf\n",
    "        # matched_id = 0\n",
    "        distances = []\n",
    "        \n",
    "        for i in range(1,len(list)):\n",
    "            output_mel = resnet_mel(list[i].to(device))\n",
    "            distance = euclidean_dist(output_eeg,output_mel)\n",
    "            distances.append(distance)\n",
    "\n",
    "        print(\"matched Index\" , distances.index(min(distances)))\n",
    "            \n",
    "        \n",
    "            \n",
    "        \n",
    "                \n",
    "        "
   ]
  },
  {
   "cell_type": "code",
   "execution_count": null,
   "id": "1cc75cc4-f018-41f6-914f-cbadd01b73b4",
   "metadata": {},
   "outputs": [],
   "source": []
  }
 ],
 "metadata": {
  "kernelspec": {
   "display_name": "Python 3.7 (pytorch)",
   "language": "python",
   "name": "torch"
  },
  "language_info": {
   "codemirror_mode": {
    "name": "ipython",
    "version": 3
   },
   "file_extension": ".py",
   "mimetype": "text/x-python",
   "name": "python",
   "nbconvert_exporter": "python",
   "pygments_lexer": "ipython3",
   "version": "3.9.17"
  }
 },
 "nbformat": 4,
 "nbformat_minor": 5
}
